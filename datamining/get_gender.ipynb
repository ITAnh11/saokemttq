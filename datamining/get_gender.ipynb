{
 "cells": [
  {
   "cell_type": "code",
   "execution_count": null,
   "metadata": {},
   "outputs": [],
   "source": [
    "import pandas as pd\n",
    "import numpy as np\n",
    "pd.plotting.register_matplotlib_converters()\n",
    "import matplotlib.pyplot as plt\n",
    "%matplotlib inline\n",
    "import seaborn as sns\n",
    "import re\n",
    "import csv\n",
    "print(\"Setup Complete\")"
   ]
  },
  {
   "cell_type": "code",
   "execution_count": null,
   "metadata": {},
   "outputs": [],
   "source": [
    "data_csv = pd.read_csv('data_with_processed_name.csv')"
   ]
  },
  {
   "cell_type": "code",
   "execution_count": null,
   "metadata": {},
   "outputs": [],
   "source": [
    "# tên đệm\n",
    "def process_name_1(name):\n",
    "    p_fm_1 = r' THI | KIM | NGUYET | NGOC | THUY | LINH | MAI | LAN | HUONG | HOA | THAO | QUYNH | MY | NHU | TUYET | HUYEN | THU '\n",
    "    p_fm_2 = r'| HUE | KIEU | VY | QUE | DIEU | BICH | PHUONG | UYEN '\n",
    "    \n",
    "    p_m_1 = r' VAN | TRUNG | QUOC | MINH | QUANG | DUC | TUNG | CONG | THE | SON | THANG | HAI | TIEN | HUU | DUY | HUY '\n",
    "    p_m_2 = r'| DAI | TAN | BA | TUAN | TRUONG | KHAC | MANH | TRI | DINH | TRONG '\n",
    "    \n",
    "    if re.search(rf'{p_fm_1}{p_fm_2}', name):\n",
    "        return 'FEMALE'\n",
    "    elif re.search(rf'{p_m_1}{p_m_2}', name):\n",
    "        return 'MALE'\n",
    "    else:\n",
    "        return ''\n",
    "       \n",
    "def female_name(name):\n",
    "    pattern_1 = r'( TRANG| LINH| PHUONG| HUONG| THAO| HA| HUYEN| NGOC| HANG| NHUNG| YEN| NGA| MAI| THU| HANH| VAN| HOA| HIEN| QUYNH)$'\n",
    "    pattern_2 = r'|( NGAN| HAN| PHUONG ANH| KIM| OANH| LY| Y| DIEU| DIEM| MY| VY| HONG| THAO ANH| TRAM ANH| LAN ANH| HUE| NGUYET)$'\n",
    "    pattern_3 = r'|( NGOC ANH| NHU| VI| HONG ANH| NHI| THOM| THO| BAO TRAN| TRAM| KIEU TRINH| HA ANH| THANH TAM| TUYET)$'\n",
    "    pattern_4 = r'|( TRUC ANH| HA CHI| THANH TRUC| TRA| TRANG ANH| MI| PHUONG CHI| LOAN| NINH| LAN| PHUONG DUNG| XUAN GIANG)$'\n",
    "    pattern_5 = r'|( TRA GIANG| KIM DUNG| PHUONG GIANG| NGOAN| QUE| THANH XUAN| THANH HOAI| XUAN ANH| XUAN CHI| UYEN| HONG DAO)$'\n",
    "    pattern_6 = r'|( THUY| PHUONG TRINH| THAM| KHUYEN| LIEN| THANH NHAN| PHUONG THANH| DUYEN| THI| THY)$'\n",
    "    if re.search(rf'{pattern_1}{pattern_2}{pattern_3}{pattern_4}{pattern_5}{pattern_6}', name):\n",
    "        return True\n",
    "    return False\n",
    "\n",
    "def male_name(name):\n",
    "    pattern_1 = r'( HUY| KHANG| BAO| MINH| PHUC| KHOA| PHAT| DAT| KHOI| LONG| NAM| DUY| QUAN| KIET| THINH| TUAN| HUNG| HOANG| HIEU)$'\n",
    "    pattern_2 = r'|( PHONG| THONG| BAC| BACH| KIEN| PHU| VU| CUONG| SON| LOC| NGHIA| TUAN ANH| TRUONG| BINH| TRIEU| TIEP| TUNG| DAI)$'\n",
    "    pattern_3 = r'|( KHAI| MANH| DUC| HOANG DUNG| CONG| TAI| TRUONG GIANG| QUANG| TOAN| HUAN| HAI| VINH| HOANG GIANG| HIEP| HAU)$'\n",
    "    pattern_4 = r'|( TRUNG| DANG| VIET ANH| TU| XUAN DUONG| VIET| TU ANH| DUY ANH| TRI DUNG| QUOC| DUY TIEN| PHUOC| TIEN DUNG| KHANH)$'\n",
    "    pattern_5 = r'|( QUYET| HOAI ANH| HUU TRI| THAI DUONG| THANG| SANG|TRIET| LUONG| SINH| LUAN| KHIEM| LUU| BANG| TRI| HUU| DOAN| CHUONG)$'\n",
    "    pattern_6 = r'|( TAN| NHAT ANH| VIET DUNG| NAM ANH| CHI DUNG| TUAN DUONG| ANH HAO| THAI AN| XUAN AN| KY ANH| BINH AN| HUYNH| THANH DUNG)$'\n",
    "    pattern_7 = r'|( LUAT| THUC ANH| TRUONG AN| VUONG| HOANG TRAN| BAO AN| TRONG| CHI THANH| THANH LAM| MANH DUNG| CAO THANH| PHUOC THANH| NHAT)$'\n",
    "    pattern_8 = r'|( CHI PHUNG| CANH| DINH| NGUYEN| CHIEN| THAI| CHUNG| HOANG ANH| TIN| THUAN| THIEN| TINH)$'\n",
    "    if re.search(rf'{pattern_1}{pattern_2}{pattern_3}{pattern_4}{pattern_5}{pattern_6}{pattern_7}{pattern_8}', name):\n",
    "        return True\n",
    "    return False\n",
    "\n",
    "# tên\n",
    "def process_name_2(name):\n",
    "    if male_name(name):\n",
    "        return \"MALE\"\n",
    "    elif female_name(name):\n",
    "        return \"FEMALE\"\n",
    "    return ''\n",
    "    \n",
    "# Example function to determine gender based on name\n",
    "# This is a simple example and may not be accurate for all names\n",
    "def determine_gender(name):\n",
    "\n",
    "    gender = process_name_1(name)\n",
    "    if gender != '':\n",
    "        return gender\n",
    "    \n",
    "    gender = process_name_2(name)\n",
    "    if gender != '':\n",
    "        return gender\n",
    "    \n",
    "    return 'unknown'\n",
    "    \n",
    "    \n",
    "\n",
    "# Apply the function to create the 'Gender' column\n",
    "data_csv['Gender'] = data_csv['Name'].apply(determine_gender)"
   ]
  },
  {
   "cell_type": "code",
   "execution_count": null,
   "metadata": {},
   "outputs": [],
   "source": [
    "# lấy ra các dòng có giới tính khác unknown\n",
    "data_csv[data_csv['Gender'] != 'unknown'].to_csv('data_with_gender.csv', index=False)"
   ]
  },
  {
   "cell_type": "code",
   "execution_count": null,
   "metadata": {},
   "outputs": [],
   "source": [
    "# test\n",
    "test = data_csv[data_csv['Gender'] == 'unknown']\n",
    "test[['BankTo', 'Name', 'Gender']].to_csv('unknown.csv', index=False)"
   ]
  }
 ],
 "metadata": {
  "kernelspec": {
   "display_name": "Python 3",
   "language": "python",
   "name": "python3"
  },
  "language_info": {
   "codemirror_mode": {
    "name": "ipython",
    "version": 3
   },
   "file_extension": ".py",
   "mimetype": "text/x-python",
   "name": "python",
   "nbconvert_exporter": "python",
   "pygments_lexer": "ipython3",
   "version": "3.12.4"
  }
 },
 "nbformat": 4,
 "nbformat_minor": 2
}
